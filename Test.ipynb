{
 "metadata": {
  "name": "",
  "signature": "sha256:b14168a1656afdcb89a5c7ee413d1ed883a9456f93de3dce43d51f352ab2207a"
 },
 "nbformat": 3,
 "nbformat_minor": 0,
 "worksheets": [
  {
   "cells": [
    {
     "cell_type": "code",
     "collapsed": false,
     "input": [
      "%pylab\n"
     ],
     "language": "python",
     "metadata": {},
     "outputs": [
      {
       "output_type": "stream",
       "stream": "stdout",
       "text": [
        "Using matplotlib backend: MacOSX\n",
        "Populating the interactive namespace from numpy and matplotlib\n"
       ]
      }
     ],
     "prompt_number": 1
    },
    {
     "cell_type": "code",
     "collapsed": false,
     "input": [
      "x = array([1.0, 2.0])"
     ],
     "language": "python",
     "metadata": {},
     "outputs": [],
     "prompt_number": 2
    },
    {
     "cell_type": "code",
     "collapsed": false,
     "input": [
      "plot(x)\n"
     ],
     "language": "python",
     "metadata": {},
     "outputs": [
      {
       "metadata": {},
       "output_type": "pyout",
       "prompt_number": 3,
       "text": [
        "[<matplotlib.lines.Line2D at 0x1082fafd0>]"
       ]
      }
     ],
     "prompt_number": 3
    },
    {
     "cell_type": "code",
     "collapsed": false,
     "input": [
      "plot(x\n",
      "     )"
     ],
     "language": "python",
     "metadata": {},
     "outputs": [
      {
       "metadata": {},
       "output_type": "pyout",
       "prompt_number": 4,
       "text": [
        "[<matplotlib.lines.Line2D at 0x1060f6bd0>]"
       ]
      }
     ],
     "prompt_number": 4
    },
    {
     "cell_type": "code",
     "collapsed": false,
     "input": [
      "plot(x)"
     ],
     "language": "python",
     "metadata": {},
     "outputs": [
      {
       "metadata": {},
       "output_type": "pyout",
       "prompt_number": 5,
       "text": [
        "[<matplotlib.lines.Line2D at 0x108233210>]"
       ]
      }
     ],
     "prompt_number": 5
    },
    {
     "cell_type": "code",
     "collapsed": false,
     "input": [],
     "language": "python",
     "metadata": {},
     "outputs": []
    },
    {
     "cell_type": "code",
     "collapsed": false,
     "input": [
      "from sklearn import datasets\n",
      "iris = datasets.load_iris()\n",
      "digits = datasets.load_digits()"
     ],
     "language": "python",
     "metadata": {},
     "outputs": [],
     "prompt_number": 2
    },
    {
     "cell_type": "code",
     "collapsed": false,
     "input": [
      "digits\n"
     ],
     "language": "python",
     "metadata": {},
     "outputs": [
      {
       "metadata": {},
       "output_type": "pyout",
       "prompt_number": 3,
       "text": [
        "{'DESCR': \" Optical Recognition of Handwritten Digits Data Set\\n\\nNotes\\n-----\\nData Set Characteristics:\\n    :Number of Instances: 5620\\n    :Number of Attributes: 64\\n    :Attribute Information: 8x8 image of integer pixels in the range 0..16.\\n    :Missing Attribute Values: None\\n    :Creator: E. Alpaydin (alpaydin '@' boun.edu.tr)\\n    :Date: July; 1998\\n\\nThis is a copy of the test set of the UCI ML hand-written digits datasets\\nhttp://archive.ics.uci.edu/ml/datasets/Optical+Recognition+of+Handwritten+Digits\\n\\nThe data set contains images of hand-written digits: 10 classes where\\neach class refers to a digit.\\n\\nPreprocessing programs made available by NIST were used to extract\\nnormalized bitmaps of handwritten digits from a preprinted form. From a\\ntotal of 43 people, 30 contributed to the training set and different 13\\nto the test set. 32x32 bitmaps are divided into nonoverlapping blocks of\\n4x4 and the number of on pixels are counted in each block. This generates\\nan input matrix of 8x8 where each element is an integer in the range\\n0..16. This reduces dimensionality and gives invariance to small\\ndistortions.\\n\\nFor info on NIST preprocessing routines, see M. D. Garris, J. L. Blue, G.\\nT. Candela, D. L. Dimmick, J. Geist, P. J. Grother, S. A. Janet, and C.\\nL. Wilson, NIST Form-Based Handprint Recognition System, NISTIR 5469,\\n1994.\\n\\nReferences\\n----------\\n  - C. Kaynak (1995) Methods of Combining Multiple Classifiers and Their\\n    Applications to Handwritten Digit Recognition, MSc Thesis, Institute of\\n    Graduate Studies in Science and Engineering, Bogazici University.\\n  - E. Alpaydin, C. Kaynak (1998) Cascading Classifiers, Kybernetika.\\n  - Ken Tang and Ponnuthurai N. Suganthan and Xi Yao and A. Kai Qin.\\n    Linear dimensionalityreduction using relevance weighted LDA. School of\\n    Electrical and Electronic Engineering Nanyang Technological University.\\n    2005.\\n  - Claudio Gentile. A New Approximate Maximal Margin Classification\\n    Algorithm. NIPS. 2000.\\n\",\n",
        " 'data': array([[  0.,   0.,   5., ...,   0.,   0.,   0.],\n",
        "        [  0.,   0.,   0., ...,  10.,   0.,   0.],\n",
        "        [  0.,   0.,   0., ...,  16.,   9.,   0.],\n",
        "        ..., \n",
        "        [  0.,   0.,   1., ...,   6.,   0.,   0.],\n",
        "        [  0.,   0.,   2., ...,  12.,   0.,   0.],\n",
        "        [  0.,   0.,  10., ...,  12.,   1.,   0.]]),\n",
        " 'images': array([[[  0.,   0.,   5., ...,   1.,   0.,   0.],\n",
        "         [  0.,   0.,  13., ...,  15.,   5.,   0.],\n",
        "         [  0.,   3.,  15., ...,  11.,   8.,   0.],\n",
        "         ..., \n",
        "         [  0.,   4.,  11., ...,  12.,   7.,   0.],\n",
        "         [  0.,   2.,  14., ...,  12.,   0.,   0.],\n",
        "         [  0.,   0.,   6., ...,   0.,   0.,   0.]],\n",
        " \n",
        "        [[  0.,   0.,   0., ...,   5.,   0.,   0.],\n",
        "         [  0.,   0.,   0., ...,   9.,   0.,   0.],\n",
        "         [  0.,   0.,   3., ...,   6.,   0.,   0.],\n",
        "         ..., \n",
        "         [  0.,   0.,   1., ...,   6.,   0.,   0.],\n",
        "         [  0.,   0.,   1., ...,   6.,   0.,   0.],\n",
        "         [  0.,   0.,   0., ...,  10.,   0.,   0.]],\n",
        " \n",
        "        [[  0.,   0.,   0., ...,  12.,   0.,   0.],\n",
        "         [  0.,   0.,   3., ...,  14.,   0.,   0.],\n",
        "         [  0.,   0.,   8., ...,  16.,   0.,   0.],\n",
        "         ..., \n",
        "         [  0.,   9.,  16., ...,   0.,   0.,   0.],\n",
        "         [  0.,   3.,  13., ...,  11.,   5.,   0.],\n",
        "         [  0.,   0.,   0., ...,  16.,   9.,   0.]],\n",
        " \n",
        "        ..., \n",
        "        [[  0.,   0.,   1., ...,   1.,   0.,   0.],\n",
        "         [  0.,   0.,  13., ...,   2.,   1.,   0.],\n",
        "         [  0.,   0.,  16., ...,  16.,   5.,   0.],\n",
        "         ..., \n",
        "         [  0.,   0.,  16., ...,  15.,   0.,   0.],\n",
        "         [  0.,   0.,  15., ...,  16.,   0.,   0.],\n",
        "         [  0.,   0.,   2., ...,   6.,   0.,   0.]],\n",
        " \n",
        "        [[  0.,   0.,   2., ...,   0.,   0.,   0.],\n",
        "         [  0.,   0.,  14., ...,  15.,   1.,   0.],\n",
        "         [  0.,   4.,  16., ...,  16.,   7.,   0.],\n",
        "         ..., \n",
        "         [  0.,   0.,   0., ...,  16.,   2.,   0.],\n",
        "         [  0.,   0.,   4., ...,  16.,   2.,   0.],\n",
        "         [  0.,   0.,   5., ...,  12.,   0.,   0.]],\n",
        " \n",
        "        [[  0.,   0.,  10., ...,   1.,   0.,   0.],\n",
        "         [  0.,   2.,  16., ...,   1.,   0.,   0.],\n",
        "         [  0.,   0.,  15., ...,  15.,   0.,   0.],\n",
        "         ..., \n",
        "         [  0.,   4.,  16., ...,  16.,   6.,   0.],\n",
        "         [  0.,   8.,  16., ...,  16.,   8.,   0.],\n",
        "         [  0.,   1.,   8., ...,  12.,   1.,   0.]]]),\n",
        " 'target': array([0, 1, 2, ..., 8, 9, 8]),\n",
        " 'target_names': array([0, 1, 2, 3, 4, 5, 6, 7, 8, 9])}"
       ]
      }
     ],
     "prompt_number": 3
    },
    {
     "cell_type": "code",
     "collapsed": false,
     "input": [
      "digits.data"
     ],
     "language": "python",
     "metadata": {},
     "outputs": [
      {
       "metadata": {},
       "output_type": "pyout",
       "prompt_number": 4,
       "text": [
        "array([[  0.,   0.,   5., ...,   0.,   0.,   0.],\n",
        "       [  0.,   0.,   0., ...,  10.,   0.,   0.],\n",
        "       [  0.,   0.,   0., ...,  16.,   9.,   0.],\n",
        "       ..., \n",
        "       [  0.,   0.,   1., ...,   6.,   0.,   0.],\n",
        "       [  0.,   0.,   2., ...,  12.,   0.,   0.],\n",
        "       [  0.,   0.,  10., ...,  12.,   1.,   0.]])"
       ]
      }
     ],
     "prompt_number": 4
    },
    {
     "cell_type": "code",
     "collapsed": false,
     "input": [
      "digits.target"
     ],
     "language": "python",
     "metadata": {},
     "outputs": [
      {
       "metadata": {},
       "output_type": "pyout",
       "prompt_number": 5,
       "text": [
        "array([0, 1, 2, ..., 8, 9, 8])"
       ]
      }
     ],
     "prompt_number": 5
    },
    {
     "cell_type": "code",
     "collapsed": false,
     "input": [
      "from sklearn import svm\n",
      "clf = svm.SVC(gamma=0.001, C=100.)"
     ],
     "language": "python",
     "metadata": {},
     "outputs": [],
     "prompt_number": 7
    },
    {
     "cell_type": "code",
     "collapsed": false,
     "input": [
      "clf.fit(digits.data[:-1], digits.target[:-1])"
     ],
     "language": "python",
     "metadata": {},
     "outputs": [
      {
       "metadata": {},
       "output_type": "pyout",
       "prompt_number": 8,
       "text": [
        "SVC(C=100.0, cache_size=200, class_weight=None, coef0=0.0, degree=3,\n",
        "  gamma=0.001, kernel='rbf', max_iter=-1, probability=False,\n",
        "  random_state=None, shrinking=True, tol=0.001, verbose=False)"
       ]
      }
     ],
     "prompt_number": 8
    },
    {
     "cell_type": "code",
     "collapsed": false,
     "input": [
      "clf.predict(digits.data[-1])"
     ],
     "language": "python",
     "metadata": {},
     "outputs": [
      {
       "metadata": {},
       "output_type": "pyout",
       "prompt_number": 9,
       "text": [
        "array([8])"
       ]
      }
     ],
     "prompt_number": 9
    },
    {
     "cell_type": "code",
     "collapsed": false,
     "input": [
      "import numpy as np"
     ],
     "language": "python",
     "metadata": {},
     "outputs": [],
     "prompt_number": 2
    },
    {
     "cell_type": "code",
     "collapsed": false,
     "input": [
      "np.ones((2,3))"
     ],
     "language": "python",
     "metadata": {},
     "outputs": [
      {
       "metadata": {},
       "output_type": "pyout",
       "prompt_number": 3,
       "text": [
        "array([[ 1.,  1.,  1.],\n",
        "       [ 1.,  1.,  1.]])"
       ]
      }
     ],
     "prompt_number": 3
    },
    {
     "cell_type": "code",
     "collapsed": false,
     "input": [
      "np.empty((2,3,4))\n"
     ],
     "language": "python",
     "metadata": {},
     "outputs": [
      {
       "metadata": {},
       "output_type": "pyout",
       "prompt_number": 4,
       "text": [
        "array([[[  1.49166815e-154,   1.49166815e-154,   2.12406806e-314,\n",
        "           2.12276654e-314],\n",
        "        [  2.15682334e-314,   0.00000000e+000,   0.00000000e+000,\n",
        "           0.00000000e+000],\n",
        "        [  1.49166815e-154,   1.49166815e-154,   3.95252517e-323,\n",
        "           1.27319747e-313]],\n",
        "\n",
        "       [[  1.27319747e-313,   1.27319747e-313,   1.27319747e-313,\n",
        "           1.27319747e-313],\n",
        "        [  2.15091032e-314,   2.12199580e-314,   2.54928939e-313,\n",
        "           2.12199580e-314],\n",
        "        [  3.39808772e-313,   2.15094033e-314,   1.32752911e-315,\n",
        "           1.66880553e-308]]])"
       ]
      }
     ],
     "prompt_number": 4
    },
    {
     "cell_type": "code",
     "collapsed": false,
     "input": [
      "arr1 = np.array([1,2,3], dtype=np.float64)\n",
      "arr2 = np.array([1,3,4], dtype=np.int32)"
     ],
     "language": "python",
     "metadata": {},
     "outputs": [],
     "prompt_number": 6
    },
    {
     "cell_type": "code",
     "collapsed": false,
     "input": [
      "arr1"
     ],
     "language": "python",
     "metadata": {},
     "outputs": [
      {
       "metadata": {},
       "output_type": "pyout",
       "prompt_number": 7,
       "text": [
        "array([ 1.,  2.,  3.])"
       ]
      }
     ],
     "prompt_number": 7
    },
    {
     "cell_type": "code",
     "collapsed": false,
     "input": [
      "arr2"
     ],
     "language": "python",
     "metadata": {},
     "outputs": [
      {
       "metadata": {},
       "output_type": "pyout",
       "prompt_number": 8,
       "text": [
        "array([1, 3, 4], dtype=int32)"
       ]
      }
     ],
     "prompt_number": 8
    },
    {
     "cell_type": "code",
     "collapsed": false,
     "input": [
      "array1 = np.array([1,2,3,4])"
     ],
     "language": "python",
     "metadata": {},
     "outputs": [],
     "prompt_number": 11
    },
    {
     "cell_type": "code",
     "collapsed": false,
     "input": [
      "array1.dtype"
     ],
     "language": "python",
     "metadata": {},
     "outputs": [
      {
       "metadata": {},
       "output_type": "pyout",
       "prompt_number": 12,
       "text": [
        "dtype('int64')"
       ]
      }
     ],
     "prompt_number": 12
    },
    {
     "cell_type": "code",
     "collapsed": false,
     "input": [],
     "language": "python",
     "metadata": {},
     "outputs": []
    }
   ],
   "metadata": {}
  }
 ]
}