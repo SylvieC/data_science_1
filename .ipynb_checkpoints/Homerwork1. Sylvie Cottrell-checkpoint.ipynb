{
 "metadata": {
  "name": "",
  "signature": "sha256:31aac10b86524a129326869f574172bd88e683a81e1378466d5dbf657e79ae7c"
 },
 "nbformat": 3,
 "nbformat_minor": 0,
 "worksheets": [
  {
   "cells": [
    {
     "cell_type": "markdown",
     "metadata": {},
     "source": [
      "'''\n",
      "Question 1. How many passengers are in our passenger list? **891**\n",
      "---\n",
      "Question 2. What is the overall survival rate? **38%**\n",
      "---\n",
      "Question 3. How many male passengers were onboard? **577**\n",
      "---\n",
      "Question 4. How many female passengers were onboard? **314**\n",
      "---\n",
      "Question 5. What is the overall survival rate of male passengers? **18%**\n",
      "---\n",
      "\ufffcQuestion 6. What is the overall survival rate of female passengers? **74%**\n",
      "---\n",
      "Question 7. What is the average age of all passengers onboard? **29**\n",
      "---"
     ]
    },
    {
     "cell_type": "markdown",
     "metadata": {},
     "source": [
      "a. How did you calculate this average age? data['Age'].mean()\n",
      "---\n",
      "b. Did you encounter any problems with this calculation?  No, I am surprised because some of the values were NaN\n",
      "---\n",
      "c. If so, how did you address any problems? Didn't have any\n",
      "---\n",
      "Question 8. What is the average age of passengers who survived? **28.34**\n",
      "---\n",
      "Question 9. What is the average age of passengers who did not survive? **30.63**\n",
      "---\n",
      "Question 10. At this (early) point in our analysis, what might you infer about any patterns\n",
      "---\n",
      "you are seeing? That the people who survived were generally much younger than those who didn't\n",
      "---\n",
      "Question 11. How many passengers are in each of the three classes of service (e.g. First,\n",
      "---\n",
      "Second, Third?) First: 216 , Second: 184 , Third:  491\n",
      "---\n",
      "Question 12. What is the survival rate for passengers in each of the three classes of service?\n",
      "---\n",
      "First : 63%, Second : 47%, Third: 24%\n",
      "---\n",
      "Question 13. What else might you conclude? You might conclude that the people in the first class were given first access to the life\n",
      "---\n",
      "boats, or that their cabins were closer to the liife boats. \n",
      "---\n",
      "Question 14. Last, if we were to build a predictive model, which features in the data do you\n",
      "---\n",
      "think we should include in the model and which can we leave out? Why?  We should include class, age and gender because the data seem\n",
      "----\n",
      "to follow a pattern with these values. \n",
      "---"
     ]
    },
    {
     "cell_type": "code",
     "collapsed": false,
     "input": [
      "import pandas as pd\n",
      "import numpy as np\n",
      "data = pd.read_csv('DAT9_Lab02/data/titanic-train.csv')\n",
      "data.head()\n"
     ],
     "language": "python",
     "metadata": {},
     "outputs": [
      {
       "html": [
        "<div style=\"max-height:1000px;max-width:1500px;overflow:auto;\">\n",
        "<table border=\"1\" class=\"dataframe\">\n",
        "  <thead>\n",
        "    <tr style=\"text-align: right;\">\n",
        "      <th></th>\n",
        "      <th>PassengerId</th>\n",
        "      <th>Survived</th>\n",
        "      <th>Pclass</th>\n",
        "      <th>Name</th>\n",
        "      <th>Sex</th>\n",
        "      <th>Age</th>\n",
        "      <th>SibSp</th>\n",
        "      <th>Parch</th>\n",
        "      <th>Ticket</th>\n",
        "      <th>Fare</th>\n",
        "      <th>Cabin</th>\n",
        "      <th>Embarked</th>\n",
        "    </tr>\n",
        "  </thead>\n",
        "  <tbody>\n",
        "    <tr>\n",
        "      <th>0</th>\n",
        "      <td> 1</td>\n",
        "      <td> 0</td>\n",
        "      <td> 3</td>\n",
        "      <td>                           Braund, Mr. Owen Harris</td>\n",
        "      <td>   male</td>\n",
        "      <td> 22</td>\n",
        "      <td> 1</td>\n",
        "      <td> 0</td>\n",
        "      <td>        A/5 21171</td>\n",
        "      <td>  7.2500</td>\n",
        "      <td>  NaN</td>\n",
        "      <td> S</td>\n",
        "    </tr>\n",
        "    <tr>\n",
        "      <th>1</th>\n",
        "      <td> 2</td>\n",
        "      <td> 1</td>\n",
        "      <td> 1</td>\n",
        "      <td> Cumings, Mrs. John Bradley (Florence Briggs Th...</td>\n",
        "      <td> female</td>\n",
        "      <td> 38</td>\n",
        "      <td> 1</td>\n",
        "      <td> 0</td>\n",
        "      <td>         PC 17599</td>\n",
        "      <td> 71.2833</td>\n",
        "      <td>  C85</td>\n",
        "      <td> C</td>\n",
        "    </tr>\n",
        "    <tr>\n",
        "      <th>2</th>\n",
        "      <td> 3</td>\n",
        "      <td> 1</td>\n",
        "      <td> 3</td>\n",
        "      <td>                            Heikkinen, Miss. Laina</td>\n",
        "      <td> female</td>\n",
        "      <td> 26</td>\n",
        "      <td> 0</td>\n",
        "      <td> 0</td>\n",
        "      <td> STON/O2. 3101282</td>\n",
        "      <td>  7.9250</td>\n",
        "      <td>  NaN</td>\n",
        "      <td> S</td>\n",
        "    </tr>\n",
        "    <tr>\n",
        "      <th>3</th>\n",
        "      <td> 4</td>\n",
        "      <td> 1</td>\n",
        "      <td> 1</td>\n",
        "      <td>      Futrelle, Mrs. Jacques Heath (Lily May Peel)</td>\n",
        "      <td> female</td>\n",
        "      <td> 35</td>\n",
        "      <td> 1</td>\n",
        "      <td> 0</td>\n",
        "      <td>           113803</td>\n",
        "      <td> 53.1000</td>\n",
        "      <td> C123</td>\n",
        "      <td> S</td>\n",
        "    </tr>\n",
        "    <tr>\n",
        "      <th>4</th>\n",
        "      <td> 5</td>\n",
        "      <td> 0</td>\n",
        "      <td> 3</td>\n",
        "      <td>                          Allen, Mr. William Henry</td>\n",
        "      <td>   male</td>\n",
        "      <td> 35</td>\n",
        "      <td> 0</td>\n",
        "      <td> 0</td>\n",
        "      <td>           373450</td>\n",
        "      <td>  8.0500</td>\n",
        "      <td>  NaN</td>\n",
        "      <td> S</td>\n",
        "    </tr>\n",
        "  </tbody>\n",
        "</table>\n",
        "</div>"
       ],
       "metadata": {},
       "output_type": "pyout",
       "prompt_number": 12,
       "text": [
        "   PassengerId  Survived  Pclass  \\\n",
        "0            1         0       3   \n",
        "1            2         1       1   \n",
        "2            3         1       3   \n",
        "3            4         1       1   \n",
        "4            5         0       3   \n",
        "\n",
        "                                                Name     Sex  Age  SibSp  \\\n",
        "0                            Braund, Mr. Owen Harris    male   22      1   \n",
        "1  Cumings, Mrs. John Bradley (Florence Briggs Th...  female   38      1   \n",
        "2                             Heikkinen, Miss. Laina  female   26      0   \n",
        "3       Futrelle, Mrs. Jacques Heath (Lily May Peel)  female   35      1   \n",
        "4                           Allen, Mr. William Henry    male   35      0   \n",
        "\n",
        "   Parch            Ticket     Fare Cabin Embarked  \n",
        "0      0         A/5 21171   7.2500   NaN        S  \n",
        "1      0          PC 17599  71.2833   C85        C  \n",
        "2      0  STON/O2. 3101282   7.9250   NaN        S  \n",
        "3      0            113803  53.1000  C123        S  \n",
        "4      0            373450   8.0500   NaN        S  "
       ]
      }
     ],
     "prompt_number": 12
    },
    {
     "cell_type": "markdown",
     "metadata": {},
     "source": [
      "Question1. How many passengers are in our passenger list? From here forward, we\u2019ll assume our dataset represents the full passenger list for the Titanic? **891**"
     ]
    },
    {
     "cell_type": "markdown",
     "metadata": {},
     "source": [
      "Question 2. What is the overall survival rate? **38%**"
     ]
    },
    {
     "cell_type": "markdown",
     "metadata": {},
     "source": [
      "number of people on the boat = 891\n",
      "number of people who survived = 342"
     ]
    },
    {
     "cell_type": "code",
     "collapsed": false,
     "input": [
      "data.info()"
     ],
     "language": "python",
     "metadata": {},
     "outputs": [
      {
       "output_type": "stream",
       "stream": "stdout",
       "text": [
        "<class 'pandas.core.frame.DataFrame'>\n",
        "Int64Index: 891 entries, 0 to 890\n",
        "Data columns (total 12 columns):\n",
        "PassengerId    891 non-null int64\n",
        "Survived       891 non-null int64\n",
        "Pclass         891 non-null int64\n",
        "Name           891 non-null object\n",
        "Sex            891 non-null object\n",
        "Age            714 non-null float64\n",
        "SibSp          891 non-null int64\n",
        "Parch          891 non-null int64\n",
        "Ticket         891 non-null object\n",
        "Fare           891 non-null float64\n",
        "Cabin          204 non-null object\n",
        "Embarked       889 non-null object\n",
        "dtypes: float64(2), int64(5), object(5)"
       ]
      }
     ],
     "prompt_number": 13
    },
    {
     "cell_type": "code",
     "collapsed": false,
     "input": [
      "data['Survived'].sum()"
     ],
     "language": "python",
     "metadata": {},
     "outputs": [
      {
       "metadata": {},
       "output_type": "pyout",
       "prompt_number": 14,
       "text": [
        "342"
       ]
      }
     ],
     "prompt_number": 14
    },
    {
     "cell_type": "code",
     "collapsed": false,
     "input": [
      "342.0 / 891"
     ],
     "language": "python",
     "metadata": {},
     "outputs": [
      {
       "metadata": {},
       "output_type": "pyout",
       "prompt_number": 15,
       "text": [
        "0.3838383838383838"
       ]
      }
     ],
     "prompt_number": 15
    },
    {
     "cell_type": "markdown",
     "metadata": {},
     "source": [
      "So I can conclude that the overall survival rate is 38%"
     ]
    },
    {
     "cell_type": "markdown",
     "metadata": {},
     "source": [
      "\n",
      "\ufffcQuestion 3. How many male passengers were onboard? **577**"
     ]
    },
    {
     "cell_type": "code",
     "collapsed": false,
     "input": [
      "data['Sex'].describe()\n"
     ],
     "language": "python",
     "metadata": {},
     "outputs": [
      {
       "metadata": {},
       "output_type": "pyout",
       "prompt_number": 16,
       "text": [
        "count      891\n",
        "unique       2\n",
        "top       male\n",
        "freq       577\n",
        "dtype: object"
       ]
      }
     ],
     "prompt_number": 16
    },
    {
     "cell_type": "code",
     "collapsed": false,
     "input": [
      "data[data['Sex'] == 'male']['Sex'].count()\n"
     ],
     "language": "python",
     "metadata": {},
     "outputs": [
      {
       "metadata": {},
       "output_type": "pyout",
       "prompt_number": 17,
       "text": [
        "577"
       ]
      }
     ],
     "prompt_number": 17
    },
    {
     "cell_type": "markdown",
     "metadata": {},
     "source": [
      "Question 4. How many female passengers were onboard? **314**"
     ]
    },
    {
     "cell_type": "code",
     "collapsed": false,
     "input": [
      "data[data['Sex'] == 'female']['Sex'].count()"
     ],
     "language": "python",
     "metadata": {},
     "outputs": [
      {
       "metadata": {},
       "output_type": "pyout",
       "prompt_number": 18,
       "text": [
        "314"
       ]
      }
     ],
     "prompt_number": 18
    },
    {
     "cell_type": "markdown",
     "metadata": {},
     "source": [
      "\n",
      "Question 5. What is the overall survival rate of male passengers? **18%**"
     ]
    },
    {
     "cell_type": "markdown",
     "metadata": {},
     "source": [
      "number of male passengers = 577\n"
     ]
    },
    {
     "cell_type": "code",
     "collapsed": false,
     "input": [
      "data[data['Sex'] == 'male'].count()\n"
     ],
     "language": "python",
     "metadata": {},
     "outputs": [
      {
       "metadata": {},
       "output_type": "pyout",
       "prompt_number": 20,
       "text": [
        "PassengerId    577\n",
        "Survived       577\n",
        "Pclass         577\n",
        "Name           577\n",
        "Sex            577\n",
        "Age            453\n",
        "SibSp          577\n",
        "Parch          577\n",
        "Ticket         577\n",
        "Fare           577\n",
        "Cabin          107\n",
        "Embarked       577\n",
        "dtype: int64"
       ]
      }
     ],
     "prompt_number": 20
    },
    {
     "cell_type": "code",
     "collapsed": false,
     "input": [
      "data[(data['Sex'] == 'male') & (data['Survived'] == 1)].count()"
     ],
     "language": "python",
     "metadata": {},
     "outputs": [
      {
       "metadata": {},
       "output_type": "pyout",
       "prompt_number": 21,
       "text": [
        "PassengerId    109\n",
        "Survived       109\n",
        "Pclass         109\n",
        "Name           109\n",
        "Sex            109\n",
        "Age             93\n",
        "SibSp          109\n",
        "Parch          109\n",
        "Ticket         109\n",
        "Fare           109\n",
        "Cabin           45\n",
        "Embarked       109\n",
        "dtype: int64"
       ]
      }
     ],
     "prompt_number": 21
    },
    {
     "cell_type": "markdown",
     "metadata": {},
     "source": [
      "Number of males that survived is **109**"
     ]
    },
    {
     "cell_type": "markdown",
     "metadata": {},
     "source": [
      "number of males that survived / number of males passengers  =  109 / 577"
     ]
    },
    {
     "cell_type": "code",
     "collapsed": false,
     "input": [
      "109.0/577.0"
     ],
     "language": "python",
     "metadata": {},
     "outputs": [
      {
       "metadata": {},
       "output_type": "pyout",
       "prompt_number": 22,
       "text": [
        "0.18890814558058924"
       ]
      }
     ],
     "prompt_number": 22
    },
    {
     "cell_type": "markdown",
     "metadata": {},
     "source": [
      "Survival rate of males :**18%**"
     ]
    },
    {
     "cell_type": "markdown",
     "metadata": {},
     "source": [
      "Question 7- What is the survival rate of females? **74%**"
     ]
    },
    {
     "cell_type": "markdown",
     "metadata": {},
     "source": [
      "Let's get the number of females that survived:"
     ]
    },
    {
     "cell_type": "code",
     "collapsed": false,
     "input": [
      "data[(data['Sex'] == 'female') & (data['Survived'] == 1)].count()"
     ],
     "language": "python",
     "metadata": {},
     "outputs": [
      {
       "metadata": {},
       "output_type": "pyout",
       "prompt_number": 23,
       "text": [
        "PassengerId    233\n",
        "Survived       233\n",
        "Pclass         233\n",
        "Name           233\n",
        "Sex            233\n",
        "Age            197\n",
        "SibSp          233\n",
        "Parch          233\n",
        "Ticket         233\n",
        "Fare           233\n",
        "Cabin           91\n",
        "Embarked       231\n",
        "dtype: int64"
       ]
      }
     ],
     "prompt_number": 23
    },
    {
     "cell_type": "markdown",
     "metadata": {},
     "source": [
      "So  233 females survived.\n",
      "Number of femlales who survived / number of female passengers = 233 / 314"
     ]
    },
    {
     "cell_type": "code",
     "collapsed": false,
     "input": [
      "233.0 / 314.0"
     ],
     "language": "python",
     "metadata": {},
     "outputs": [
      {
       "metadata": {},
       "output_type": "pyout",
       "prompt_number": 24,
       "text": [
        "0.7420382165605095"
       ]
      }
     ],
     "prompt_number": 24
    },
    {
     "cell_type": "markdown",
     "metadata": {},
     "source": [
      "74% of the females survived"
     ]
    },
    {
     "cell_type": "markdown",
     "metadata": {},
     "source": [
      "Question 7. What is the average age of all passengers onboard?  **28.34**"
     ]
    },
    {
     "cell_type": "code",
     "collapsed": false,
     "input": [
      "data[data['Age'] not NaN]"
     ],
     "language": "python",
     "metadata": {},
     "outputs": [
      {
       "ename": "SyntaxError",
       "evalue": "invalid syntax (<ipython-input-31-8ee729e714b6>, line 1)",
       "output_type": "pyerr",
       "traceback": [
        "\u001b[0;36m  File \u001b[0;32m\"<ipython-input-31-8ee729e714b6>\"\u001b[0;36m, line \u001b[0;32m1\u001b[0m\n\u001b[0;31m    data[data['Age'] not NaN]\u001b[0m\n\u001b[0m                           ^\u001b[0m\n\u001b[0;31mSyntaxError\u001b[0m\u001b[0;31m:\u001b[0m invalid syntax\n"
       ]
      }
     ],
     "prompt_number": 31
    },
    {
     "cell_type": "code",
     "collapsed": false,
     "input": [
      "data['Age'].mean()"
     ],
     "language": "python",
     "metadata": {},
     "outputs": [
      {
       "metadata": {},
       "output_type": "pyout",
       "prompt_number": 32,
       "text": [
        "29.69911764705882"
       ]
      }
     ],
     "prompt_number": 32
    },
    {
     "cell_type": "code",
     "collapsed": false,
     "input": [
      "data[data['Survived'] == 1].mean()"
     ],
     "language": "python",
     "metadata": {},
     "outputs": [
      {
       "metadata": {},
       "output_type": "pyout",
       "prompt_number": 33,
       "text": [
        "PassengerId    444.368421\n",
        "Survived         1.000000\n",
        "Pclass           1.950292\n",
        "Age             28.343690\n",
        "SibSp            0.473684\n",
        "Parch            0.464912\n",
        "Fare            48.395408\n",
        "dtype: float64"
       ]
      }
     ],
     "prompt_number": 33
    },
    {
     "cell_type": "code",
     "collapsed": false,
     "input": [
      "data[data['Survived'] == 1].mean()['Age']"
     ],
     "language": "python",
     "metadata": {},
     "outputs": [
      {
       "metadata": {},
       "output_type": "pyout",
       "prompt_number": 34,
       "text": [
        "28.343689655172415"
       ]
      }
     ],
     "prompt_number": 34
    },
    {
     "cell_type": "markdown",
     "metadata": {},
     "source": [
      "This gives an average of 28.34"
     ]
    },
    {
     "cell_type": "markdown",
     "metadata": {},
     "source": [
      "Question 9. What is the average age of passengers who did not survive? **30.63**"
     ]
    },
    {
     "cell_type": "code",
     "collapsed": false,
     "input": [
      "data[data['Survived'] == 0].mean()['Age']"
     ],
     "language": "python",
     "metadata": {},
     "outputs": [
      {
       "metadata": {},
       "output_type": "pyout",
       "prompt_number": 36,
       "text": [
        "30.626179245283019"
       ]
      }
     ],
     "prompt_number": 36
    },
    {
     "cell_type": "markdown",
     "metadata": {},
     "source": [
      "Question 10. At this (early) point in our analysis, what might you infer about any patterns\n",
      "you are seeing? That the people who survived were generally much younger than those who didn't\n",
      "\n",
      "Question 11. How many passengers are in each of the three classes of service (e.g. First,\n",
      "Second, Third?)a"
     ]
    },
    {
     "cell_type": "code",
     "collapsed": false,
     "input": [
      "data[data['Pclass'] == 1].count()"
     ],
     "language": "python",
     "metadata": {},
     "outputs": [
      {
       "metadata": {},
       "output_type": "pyout",
       "prompt_number": 37,
       "text": [
        "PassengerId    216\n",
        "Survived       216\n",
        "Pclass         216\n",
        "Name           216\n",
        "Sex            216\n",
        "Age            186\n",
        "SibSp          216\n",
        "Parch          216\n",
        "Ticket         216\n",
        "Fare           216\n",
        "Cabin          176\n",
        "Embarked       214\n",
        "dtype: int64"
       ]
      }
     ],
     "prompt_number": 37
    },
    {
     "cell_type": "markdown",
     "metadata": {},
     "source": [
      "There were **216** in first class"
     ]
    },
    {
     "cell_type": "code",
     "collapsed": false,
     "input": [
      "data[data['Pclass'] == 2].count()"
     ],
     "language": "python",
     "metadata": {},
     "outputs": [
      {
       "metadata": {},
       "output_type": "pyout",
       "prompt_number": 38,
       "text": [
        "PassengerId    184\n",
        "Survived       184\n",
        "Pclass         184\n",
        "Name           184\n",
        "Sex            184\n",
        "Age            173\n",
        "SibSp          184\n",
        "Parch          184\n",
        "Ticket         184\n",
        "Fare           184\n",
        "Cabin           16\n",
        "Embarked       184\n",
        "dtype: int64"
       ]
      }
     ],
     "prompt_number": 38
    },
    {
     "cell_type": "markdown",
     "metadata": {},
     "source": [
      "There were **184** people in Second class"
     ]
    },
    {
     "cell_type": "code",
     "collapsed": false,
     "input": [
      "data[data['Pclass'] == 3].count()"
     ],
     "language": "python",
     "metadata": {},
     "outputs": [
      {
       "metadata": {},
       "output_type": "pyout",
       "prompt_number": 39,
       "text": [
        "PassengerId    491\n",
        "Survived       491\n",
        "Pclass         491\n",
        "Name           491\n",
        "Sex            491\n",
        "Age            355\n",
        "SibSp          491\n",
        "Parch          491\n",
        "Ticket         491\n",
        "Fare           491\n",
        "Cabin           12\n",
        "Embarked       491\n",
        "dtype: int64"
       ]
      }
     ],
     "prompt_number": 39
    },
    {
     "cell_type": "markdown",
     "metadata": {},
     "source": [
      "There were **491** people in Third class"
     ]
    },
    {
     "cell_type": "code",
     "collapsed": false,
     "input": [
      "data[(data['Pclass'] == 1) & (data['Survived'] == 1)].count()"
     ],
     "language": "python",
     "metadata": {},
     "outputs": [
      {
       "metadata": {},
       "output_type": "pyout",
       "prompt_number": 44,
       "text": [
        "PassengerId    136\n",
        "Survived       136\n",
        "Pclass         136\n",
        "Name           136\n",
        "Sex            136\n",
        "Age            122\n",
        "SibSp          136\n",
        "Parch          136\n",
        "Ticket         136\n",
        "Fare           136\n",
        "Cabin          117\n",
        "Embarked       134\n",
        "dtype: int64"
       ]
      }
     ],
     "prompt_number": 44
    },
    {
     "cell_type": "markdown",
     "metadata": {},
     "source": [
      "136 out of 216 survived in first Class\n",
      "136 / 216.0 = 0.63\n",
      "So 63% of the people in first class survived"
     ]
    },
    {
     "cell_type": "code",
     "collapsed": false,
     "input": [
      "data[(data['Pclass'] == 2) & (data['Survived'] == 1)].count()"
     ],
     "language": "python",
     "metadata": {},
     "outputs": [
      {
       "metadata": {},
       "output_type": "pyout",
       "prompt_number": 45,
       "text": [
        "PassengerId    87\n",
        "Survived       87\n",
        "Pclass         87\n",
        "Name           87\n",
        "Sex            87\n",
        "Age            83\n",
        "SibSp          87\n",
        "Parch          87\n",
        "Ticket         87\n",
        "Fare           87\n",
        "Cabin          13\n",
        "Embarked       87\n",
        "dtype: int64"
       ]
      }
     ],
     "prompt_number": 45
    },
    {
     "cell_type": "markdown",
     "metadata": {},
     "source": [
      "87 out of 184 passengers survived, which is 47%"
     ]
    },
    {
     "cell_type": "code",
     "collapsed": false,
     "input": [
      "data[(data['Pclass'] == 3) & (data['Survived'] == 1)].count()"
     ],
     "language": "python",
     "metadata": {},
     "outputs": [
      {
       "metadata": {},
       "output_type": "pyout",
       "prompt_number": 46,
       "text": [
        "PassengerId    119\n",
        "Survived       119\n",
        "Pclass         119\n",
        "Name           119\n",
        "Sex            119\n",
        "Age             85\n",
        "SibSp          119\n",
        "Parch          119\n",
        "Ticket         119\n",
        "Fare           119\n",
        "Cabin            6\n",
        "Embarked       119\n",
        "dtype: int64"
       ]
      }
     ],
     "prompt_number": 46
    },
    {
     "cell_type": "markdown",
     "metadata": {},
     "source": [
      "In the third class, 119 out of 491 people survived, which is 24%"
     ]
    }
   ],
   "metadata": {}
  }
 ]
}