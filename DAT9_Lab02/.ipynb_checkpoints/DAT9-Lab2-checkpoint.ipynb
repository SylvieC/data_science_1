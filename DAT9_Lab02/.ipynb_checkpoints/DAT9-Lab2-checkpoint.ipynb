{
 "metadata": {
  "name": ""
 },
 "nbformat": 3,
 "nbformat_minor": 0,
 "worksheets": [
  {
   "cells": [
    {
     "cell_type": "markdown",
     "metadata": {},
     "source": [
      "# GA Data Science 9 (DAT9) - Lab2"
     ]
    },
    {
     "cell_type": "markdown",
     "metadata": {},
     "source": [
      "## Lab goals\n",
      "\n",
      "- pro tips with Ipyhon\n",
      "- numpy wizardry\n",
      "- intro to pandas"
     ]
    },
    {
     "cell_type": "markdown",
     "metadata": {},
     "source": [
      "From [Crosscompute-Tutorials](http://nbviewer.ipython.org/github/invisibleroads/crosscompute-tutorials/blob/master/011%20Explore%20interactively%20with%20IPython.ipynb)\n",
      "\n",
      "# IPython is for interactive Python\n",
      "\n",
      "## Interact in a browser\n",
      "\n",
      "Start the server with plotting functionality.\n",
      "\n",
      "    ipython notebook --pylab=inline\n",
      "\n",
      "See a list of keyboard shortcuts."
     ]
    },
    {
     "cell_type": "code",
     "collapsed": false,
     "input": [
      "# Press CTRL-m h"
     ],
     "language": "python",
     "metadata": {},
     "outputs": []
    },
    {
     "cell_type": "markdown",
     "metadata": {},
     "source": [
      "Execute code."
     ]
    },
    {
     "cell_type": "code",
     "collapsed": false,
     "input": [
      "# Press CTRL-ENTER to execute the current block in place\n",
      "1 + 1"
     ],
     "language": "python",
     "metadata": {},
     "outputs": []
    },
    {
     "cell_type": "code",
     "collapsed": false,
     "input": [
      "# Press SHIFT-ENTER to execute the current code and go to the next block\n",
      "[x * 2 for x in xrange(5)]"
     ],
     "language": "python",
     "metadata": {},
     "outputs": []
    },
    {
     "cell_type": "markdown",
     "metadata": {},
     "source": [
      "Insert code blocks."
     ]
    },
    {
     "cell_type": "code",
     "collapsed": false,
     "input": [
      "# Press CTRL-m a to insert a code block above\n",
      "# Press CTRL-m b to insert a code block below"
     ],
     "language": "python",
     "metadata": {},
     "outputs": []
    },
    {
     "cell_type": "markdown",
     "metadata": {},
     "source": [
      "Use TAB completion."
     ]
    },
    {
     "cell_type": "code",
     "collapsed": false,
     "input": [
      "# Type imp<TAB> sub<TAB>.Po<TAB>.<TAB>"
     ],
     "language": "python",
     "metadata": {},
     "outputs": []
    },
    {
     "cell_type": "markdown",
     "metadata": {},
     "source": [
      "Get help."
     ]
    },
    {
     "cell_type": "code",
     "collapsed": false,
     "input": [
      "# Type zip( and wait to see a tooltip\n",
      "def add(a, b):\n",
      "    \"\"\"adding a + b\"\"\"\n",
      "    return a + b"
     ],
     "language": "python",
     "metadata": {},
     "outputs": []
    },
    {
     "cell_type": "code",
     "collapsed": false,
     "input": [
      "# Press CTRL-ENTER to see documentation\n",
      "zip?"
     ],
     "language": "python",
     "metadata": {},
     "outputs": []
    },
    {
     "cell_type": "code",
     "collapsed": false,
     "input": [
      "# Press CTRL-ENTER to see source code\n",
      "import IPython\n",
      "IPython??"
     ],
     "language": "python",
     "metadata": {},
     "outputs": []
    },
    {
     "cell_type": "markdown",
     "metadata": {},
     "source": [
      "Split blocks."
     ]
    },
    {
     "cell_type": "code",
     "collapsed": false,
     "input": [
      "# Place your cursor below this line and select Edit > Split Cell.\n",
      "\n",
      "# Wheee!"
     ],
     "language": "python",
     "metadata": {},
     "outputs": []
    },
    {
     "cell_type": "markdown",
     "metadata": {},
     "source": [
      "Use shell command magic with TAB completion."
     ]
    },
    {
     "cell_type": "code",
     "collapsed": false,
     "input": [
      "ls ."
     ],
     "language": "python",
     "metadata": {},
     "outputs": []
    },
    {
     "cell_type": "code",
     "collapsed": false,
     "input": [
      "files = !ls . # Store shell output in a variable"
     ],
     "language": "python",
     "metadata": {},
     "outputs": []
    },
    {
     "cell_type": "code",
     "collapsed": false,
     "input": [
      "files"
     ],
     "language": "python",
     "metadata": {},
     "outputs": []
    },
    {
     "cell_type": "code",
     "collapsed": false,
     "input": [
      "# First type cd ~/Doc<TAB><CTRL-ENTER>"
     ],
     "language": "python",
     "metadata": {},
     "outputs": []
    },
    {
     "cell_type": "code",
     "collapsed": false,
     "input": [
      "# Then type cd -<TAB> to see directory history"
     ],
     "language": "python",
     "metadata": {},
     "outputs": []
    },
    {
     "cell_type": "markdown",
     "metadata": {},
     "source": [
      "Copy and paste code and IPython will parse it intelligently.\n",
      "\n",
      "    >>> def f(x, y):\n",
      "    ...     print x + y\n",
      "    >>> f(1, 2)"
     ]
    },
    {
     "cell_type": "code",
     "collapsed": false,
     "input": [
      "# Paste the above code here and press CTRL-ENTER"
     ],
     "language": "python",
     "metadata": {},
     "outputs": []
    },
    {
     "cell_type": "markdown",
     "metadata": {},
     "source": [
      "Examine variables in your session namespace."
     ]
    },
    {
     "cell_type": "code",
     "collapsed": false,
     "input": [
      "# Press SHIFT-ENTER\n",
      "x = 1"
     ],
     "language": "python",
     "metadata": {},
     "outputs": []
    },
    {
     "cell_type": "code",
     "collapsed": false,
     "input": [
      "whos"
     ],
     "language": "python",
     "metadata": {},
     "outputs": []
    },
    {
     "cell_type": "code",
     "collapsed": false,
     "input": [
      "%timeit pow(10, 10)\n",
      "%timeit 10**10"
     ],
     "language": "python",
     "metadata": {},
     "outputs": []
    },
    {
     "cell_type": "markdown",
     "metadata": {},
     "source": [
      "Write mathematical expressions in LaTeX thanks to [MathJax](http://mathjax.org).\n",
      "\n",
      "$\\left( \\sum_{k=1}^n a_k b_k \\right)^2 \\leq \\left( \\sum_{k=1}^n a_k^2 \\right) \\left( \\sum_{k=1}^n b_k^2 \\right)$"
     ]
    },
    {
     "cell_type": "markdown",
     "metadata": {},
     "source": [
      "Find the rest of this tutorial [here](http://nbviewer.ipython.org/github/invisibleroads/crosscompute-tutorials/blob/master/011%20Explore%20interactively%20with%20IPython.ipynb)\n",
      "\n",
      "For more readline commands, please see \n",
      "[Jan Tomka's sheet](http://jan.tomka.name/sites/default/files/readline-commands.html).\n",
      "\n",
      "For more IPython commands, please see the [IPython documentation](http://ipython.org/documentation.html)."
     ]
    },
    {
     "cell_type": "markdown",
     "metadata": {},
     "source": [
      "---"
     ]
    },
    {
     "cell_type": "markdown",
     "metadata": {},
     "source": [
      "From [Crosscompute-Tutorials](http://nbviewer.ipython.org/github/invisibleroads/crosscompute-tutorials/blob/master/111%20Work%20with%20matrices%20in%20NumPy.ipynb)\n",
      "\n",
      "NumPy Wizardry\n",
      "==============================================\n",
      "NumPy specializes in fast operations on arrays and parts of arrays."
     ]
    },
    {
     "cell_type": "code",
     "collapsed": false,
     "input": [
      "import numpy as np"
     ],
     "language": "python",
     "metadata": {},
     "outputs": []
    },
    {
     "cell_type": "markdown",
     "metadata": {},
     "source": [
      "Make an array\n",
      "-------------\n",
      "Make an array from a list."
     ]
    },
    {
     "cell_type": "code",
     "collapsed": false,
     "input": [
      "np.array([1, 2, 3])"
     ],
     "language": "python",
     "metadata": {},
     "outputs": []
    },
    {
     "cell_type": "code",
     "collapsed": false,
     "input": [
      "np.array([[1, 2], [3, 4]])"
     ],
     "language": "python",
     "metadata": {},
     "outputs": []
    },
    {
     "cell_type": "markdown",
     "metadata": {},
     "source": [
      "Make an array using a function."
     ]
    },
    {
     "cell_type": "code",
     "collapsed": false,
     "input": [
      "np.zeros((2, 3))"
     ],
     "language": "python",
     "metadata": {},
     "outputs": []
    },
    {
     "cell_type": "code",
     "collapsed": false,
     "input": [
      "np.ones((3, 2))"
     ],
     "language": "python",
     "metadata": {},
     "outputs": []
    },
    {
     "cell_type": "code",
     "collapsed": false,
     "input": [
      "# Make an array by starting at 0, incrementing by 2 and ending before 10\n",
      "np.arange(0, 10, 2)"
     ],
     "language": "python",
     "metadata": {},
     "outputs": []
    },
    {
     "cell_type": "code",
     "collapsed": false,
     "input": [
      "# Make an array of four evenly spaced numbers including both endpoints\n",
      "np.linspace(0, 1, 4)"
     ],
     "language": "python",
     "metadata": {},
     "outputs": []
    },
    {
     "cell_type": "code",
     "collapsed": false,
     "input": [
      "# Make an array evenly spaced on a log scale\n",
      "x = np.logspace(0, 1, 4)\n",
      "# Show that the two arrays are equivalent\n",
      "np.allclose(x, 10 ** np.linspace(0, 1, 4))"
     ],
     "language": "python",
     "metadata": {},
     "outputs": []
    },
    {
     "cell_type": "code",
     "collapsed": false,
     "input": [
      "x"
     ],
     "language": "python",
     "metadata": {},
     "outputs": []
    },
    {
     "cell_type": "code",
     "collapsed": false,
     "input": [
      "# Check execution speed\n",
      "%timeit np.logspace(0, 1, 4)\n",
      "%timeit 10 ** np.linspace(0, 1, 4)"
     ],
     "language": "python",
     "metadata": {},
     "outputs": []
    },
    {
     "cell_type": "markdown",
     "metadata": {},
     "source": [
      "Access parts of an array by indexing\n",
      "------------------------------------\n",
      "Access elements of a 1-dimensional array."
     ]
    },
    {
     "cell_type": "code",
     "collapsed": false,
     "input": [
      "x = np.arange(4)\n",
      "print x\n",
      "print x[0]  # Get the first element\n",
      "print x[-1] # Get the last element"
     ],
     "language": "python",
     "metadata": {},
     "outputs": []
    },
    {
     "cell_type": "markdown",
     "metadata": {},
     "source": [
      "Access elements of a multidimensional array."
     ]
    },
    {
     "cell_type": "code",
     "collapsed": false,
     "input": [
      "x = np.arange(6).reshape(2, 3)\n",
      "print x"
     ],
     "language": "python",
     "metadata": {},
     "outputs": []
    },
    {
     "cell_type": "code",
     "collapsed": false,
     "input": [
      "print x[-1]     # Get the last row\n",
      "print x[-1, -1] # Get the last element of the last row"
     ],
     "language": "python",
     "metadata": {},
     "outputs": []
    },
    {
     "cell_type": "code",
     "collapsed": false,
     "input": [
      "%timeit x[0, 0] # Faster\n",
      "%timeit x[0][0]"
     ],
     "language": "python",
     "metadata": {},
     "outputs": []
    },
    {
     "cell_type": "markdown",
     "metadata": {},
     "source": [
      "Access slices of an array using colons."
     ]
    },
    {
     "cell_type": "code",
     "collapsed": false,
     "input": [
      "x = np.arange(10)\n",
      "print x\n",
      "print x[:3]  # Get the first three elements\n",
      "print x[-3:] # Get the last three elements\n",
      "print x[1:4] # Get some elements in the middle"
     ],
     "language": "python",
     "metadata": {},
     "outputs": []
    },
    {
     "cell_type": "code",
     "collapsed": false,
     "input": [
      "print x[::2] # Get every second element\n",
      "print x[::3] # Get every third element"
     ],
     "language": "python",
     "metadata": {},
     "outputs": []
    },
    {
     "cell_type": "code",
     "collapsed": false,
     "input": [
      "x = np.arange(25).reshape(5, 5)\n",
      "print x"
     ],
     "language": "python",
     "metadata": {},
     "outputs": []
    },
    {
     "cell_type": "code",
     "collapsed": false,
     "input": [
      "print x[:2, :2]   # Get the first two columns and the first two rows"
     ],
     "language": "python",
     "metadata": {},
     "outputs": []
    },
    {
     "cell_type": "code",
     "collapsed": false,
     "input": [
      "print x[::2, ::2] # Get every second column of every second row"
     ],
     "language": "python",
     "metadata": {},
     "outputs": []
    },
    {
     "cell_type": "markdown",
     "metadata": {},
     "source": [
      "Access parts of an array with index arrays."
     ]
    },
    {
     "cell_type": "code",
     "collapsed": false,
     "input": [
      "# Generate six random integers between 0 and 9 inclusive\n",
      "x = np.random.random_integers(0, 9, 6) \n",
      "print x"
     ],
     "language": "python",
     "metadata": {},
     "outputs": []
    },
    {
     "cell_type": "code",
     "collapsed": false,
     "input": [
      "# Get the first number and the last two numbers\n",
      "indices = [0, -2, -1]\n",
      "print x[indices]"
     ],
     "language": "python",
     "metadata": {},
     "outputs": []
    },
    {
     "cell_type": "code",
     "collapsed": false,
     "input": [
      "# Make a random set of indices and use it for two arrays\n",
      "arrayLength = 5\n",
      "x1 = np.arange(arrayLength)\n",
      "x2 = np.arange(arrayLength) * -1\n",
      "indices = np.random.permutation(arrayLength)\n",
      "print x1[indices]\n",
      "print x2[indices]"
     ],
     "language": "python",
     "metadata": {},
     "outputs": []
    },
    {
     "cell_type": "code",
     "collapsed": false,
     "input": [
      "# Use a multidimensional index array\n",
      "x = np.random.random_integers(0, 9, 3)\n",
      "indices = np.array([[0, 1], [1, 2]])\n",
      "print 'Candidates = %s' % x\n",
      "print x[indices]"
     ],
     "language": "python",
     "metadata": {},
     "outputs": []
    },
    {
     "cell_type": "markdown",
     "metadata": {},
     "source": [
      "Filter arrays by element value with boolean index arrays."
     ]
    },
    {
     "cell_type": "code",
     "collapsed": false,
     "input": [
      "x = np.arange(5)\n",
      "print x"
     ],
     "language": "python",
     "metadata": {},
     "outputs": []
    },
    {
     "cell_type": "code",
     "collapsed": false,
     "input": [
      "print x > 2"
     ],
     "language": "python",
     "metadata": {},
     "outputs": []
    },
    {
     "cell_type": "code",
     "collapsed": false,
     "input": [
      "print x[x > 2]"
     ],
     "language": "python",
     "metadata": {},
     "outputs": []
    },
    {
     "cell_type": "markdown",
     "metadata": {},
     "source": [
      "Include whole dimensions with a colon or ellipsis."
     ]
    },
    {
     "cell_type": "code",
     "collapsed": false,
     "input": [
      "x = np.arange(16).reshape(2, 2, 2, 2)\n",
      "print x"
     ],
     "language": "python",
     "metadata": {},
     "outputs": []
    },
    {
     "cell_type": "code",
     "collapsed": false,
     "input": [
      "print x[0]"
     ],
     "language": "python",
     "metadata": {},
     "outputs": []
    },
    {
     "cell_type": "code",
     "collapsed": false,
     "input": [
      "print x[0, 0]"
     ],
     "language": "python",
     "metadata": {},
     "outputs": []
    },
    {
     "cell_type": "code",
     "collapsed": false,
     "input": [
      "print x[0, 0, 0]"
     ],
     "language": "python",
     "metadata": {},
     "outputs": []
    },
    {
     "cell_type": "code",
     "collapsed": false,
     "input": [
      "print x[0, 0, 0, 0]\n",
      "print x[0, 0, 1, 0]\n",
      "print x[0, 0, :, 0]"
     ],
     "language": "python",
     "metadata": {},
     "outputs": []
    },
    {
     "cell_type": "code",
     "collapsed": false,
     "input": [
      "print x[0, 1, 0, 0]\n",
      "print x[0, 1, 1, 0]\n",
      "print x[0, 1, :, 0]"
     ],
     "language": "python",
     "metadata": {},
     "outputs": []
    },
    {
     "cell_type": "code",
     "collapsed": false,
     "input": [
      "print x[0, :, :, 0]"
     ],
     "language": "python",
     "metadata": {},
     "outputs": []
    },
    {
     "cell_type": "code",
     "collapsed": false,
     "input": [
      "print x[0, ..., 0]"
     ],
     "language": "python",
     "metadata": {},
     "outputs": []
    },
    {
     "cell_type": "markdown",
     "metadata": {},
     "source": [
      "Build indices programmatically."
     ]
    },
    {
     "cell_type": "code",
     "collapsed": false,
     "input": [
      "x = np.arange(16).reshape(2, 2, 2, 2)\n",
      "indices = [0, slice(x.shape[1]), slice(x.shape[2]), 0]\n",
      "print x[indices] # x[0, :, :, 0]\n",
      "indices = [0, Ellipsis, 0]\n",
      "print x[indices] # x[0, ..., 0]"
     ],
     "language": "python",
     "metadata": {},
     "outputs": []
    },
    {
     "cell_type": "markdown",
     "metadata": {},
     "source": [
      "Change parts of an array by indexing\n",
      "------------------------------------"
     ]
    },
    {
     "cell_type": "code",
     "collapsed": false,
     "input": [
      "x = zeros((5, 5))\n",
      "print x"
     ],
     "language": "python",
     "metadata": {},
     "outputs": []
    },
    {
     "cell_type": "code",
     "collapsed": false,
     "input": [
      "x[1:4, 1:4] = 1\n",
      "print x"
     ],
     "language": "python",
     "metadata": {},
     "outputs": []
    },
    {
     "cell_type": "markdown",
     "metadata": {},
     "source": [
      "Combine arrays by concatenating\n",
      "-------------------------------"
     ]
    },
    {
     "cell_type": "code",
     "collapsed": false,
     "input": [
      "x = np.array([1, 2])\n",
      "y = np.array([3, 4])\n",
      "print 'Concatenate along the first axis.'\n",
      "print np.r_[x, y]\n",
      "print 'Concatenate along the second axis.'\n",
      "print np.c_[x, y]"
     ],
     "language": "python",
     "metadata": {},
     "outputs": []
    },
    {
     "cell_type": "markdown",
     "metadata": {},
     "source": [
      "Combine arrays of different dimensions by broadcasting\n",
      "------------------------------------------------------\n",
      "Broadcast a scalar over a matrix."
     ]
    },
    {
     "cell_type": "code",
     "collapsed": false,
     "input": [
      "x = [1, 2, 3, 4]"
     ],
     "language": "python",
     "metadata": {},
     "outputs": []
    },
    {
     "cell_type": "code",
     "collapsed": false,
     "input": [
      "x"
     ],
     "language": "python",
     "metadata": {},
     "outputs": []
    },
    {
     "cell_type": "code",
     "collapsed": false,
     "input": [
      "print x + 10"
     ],
     "language": "python",
     "metadata": {},
     "outputs": []
    },
    {
     "cell_type": "code",
     "collapsed": false,
     "input": [
      "y = np.arange(9)\n",
      "print y"
     ],
     "language": "python",
     "metadata": {},
     "outputs": []
    },
    {
     "cell_type": "code",
     "collapsed": false,
     "input": [
      "y + 10"
     ],
     "language": "python",
     "metadata": {},
     "outputs": []
    },
    {
     "cell_type": "code",
     "collapsed": false,
     "input": [
      "print y + 10"
     ],
     "language": "python",
     "metadata": {},
     "outputs": []
    },
    {
     "cell_type": "code",
     "collapsed": false,
     "input": [
      "x"
     ],
     "language": "python",
     "metadata": {},
     "outputs": []
    },
    {
     "cell_type": "markdown",
     "metadata": {},
     "source": [
      "Broadcast 10 to the list"
     ]
    },
    {
     "cell_type": "markdown",
     "metadata": {},
     "source": [
      "Method 1: for loop"
     ]
    },
    {
     "cell_type": "code",
     "collapsed": false,
     "input": [
      "x_new = []\n",
      "for i in x:\n",
      "    x_new.append(i+10)\n",
      "\n",
      "print x_new"
     ],
     "language": "python",
     "metadata": {},
     "outputs": []
    },
    {
     "cell_type": "markdown",
     "metadata": {},
     "source": [
      "Method 2: list comprehension"
     ]
    },
    {
     "cell_type": "code",
     "collapsed": false,
     "input": [
      "[i+10 for i in x]"
     ],
     "language": "python",
     "metadata": {},
     "outputs": []
    },
    {
     "cell_type": "markdown",
     "metadata": {},
     "source": [
      "Method 3: convert to numpy array"
     ]
    },
    {
     "cell_type": "code",
     "collapsed": false,
     "input": [
      "list(np.array(x)+10)"
     ],
     "language": "python",
     "metadata": {},
     "outputs": []
    },
    {
     "cell_type": "markdown",
     "metadata": {},
     "source": [
      "Broadcast a vector over a matrix."
     ]
    },
    {
     "cell_type": "code",
     "collapsed": false,
     "input": [
      "x = np.arange(9).reshape((3,3))\n",
      "print x\n",
      "\n",
      "y = np.arange(3)\n",
      "print y"
     ],
     "language": "python",
     "metadata": {},
     "outputs": []
    },
    {
     "cell_type": "code",
     "collapsed": false,
     "input": [
      "x + y"
     ],
     "language": "python",
     "metadata": {},
     "outputs": []
    },
    {
     "cell_type": "markdown",
     "metadata": {},
     "source": [
      "Broadcast scalars over vectors."
     ]
    },
    {
     "cell_type": "code",
     "collapsed": false,
     "input": [
      "x = np.arange(5)\n",
      "print x"
     ],
     "language": "python",
     "metadata": {},
     "outputs": []
    },
    {
     "cell_type": "code",
     "collapsed": false,
     "input": [
      "print x[:, None] #Add a dimension"
     ],
     "language": "python",
     "metadata": {},
     "outputs": []
    },
    {
     "cell_type": "code",
     "collapsed": false,
     "input": [
      "print x[None, :] # Add a dimension"
     ],
     "language": "python",
     "metadata": {},
     "outputs": []
    },
    {
     "cell_type": "code",
     "collapsed": false,
     "input": [
      "print x[:, None] + x[None, :]"
     ],
     "language": "python",
     "metadata": {},
     "outputs": []
    },
    {
     "cell_type": "markdown",
     "metadata": {},
     "source": [
      "Process arrays\n",
      "--------------"
     ]
    },
    {
     "cell_type": "code",
     "collapsed": false,
     "input": [
      "x = np.arange(8)\n",
      "print x"
     ],
     "language": "python",
     "metadata": {},
     "outputs": []
    },
    {
     "cell_type": "code",
     "collapsed": false,
     "input": [
      "y = x.reshape(2, 2, 2)\n",
      "print y"
     ],
     "language": "python",
     "metadata": {},
     "outputs": []
    },
    {
     "cell_type": "code",
     "collapsed": false,
     "input": [
      "print y.ravel()"
     ],
     "language": "python",
     "metadata": {},
     "outputs": []
    },
    {
     "cell_type": "code",
     "collapsed": false,
     "input": [
      "print y.sum()\n",
      "print y.sum(axis=0)\n",
      "print y.sum(axis=1)\n",
      "print y.sum(axis=2)"
     ],
     "language": "python",
     "metadata": {},
     "outputs": []
    },
    {
     "cell_type": "code",
     "collapsed": false,
     "input": [
      "print y.mean()\n",
      "print y.mean(axis=0)\n",
      "print y.mean(axis=1)"
     ],
     "language": "python",
     "metadata": {},
     "outputs": []
    },
    {
     "cell_type": "code",
     "collapsed": false,
     "input": [
      "print y.std()\n",
      "print y.std(axis=0)\n",
      "print y.std(axis=1)"
     ],
     "language": "python",
     "metadata": {},
     "outputs": []
    },
    {
     "cell_type": "code",
     "collapsed": false,
     "input": [
      "np.dot([1, 2], [3,4])"
     ],
     "language": "python",
     "metadata": {},
     "outputs": []
    },
    {
     "cell_type": "markdown",
     "metadata": {},
     "source": [
      "From [10 Minutes to Pandas](http://pandas.pydata.org/pandas-docs/stable/10min.html)\n",
      "\n",
      "Intro to Pandas\n",
      "==============================================\n",
      "Pandas is a Python package providing fast, flexible, and expressive data structures designed to make working with \u201crelational\u201d or \u201clabeled\u201d data both easy and intuitive.\n",
      "\n",
      "Pandas is great for tabular/indexed data"
     ]
    },
    {
     "cell_type": "code",
     "collapsed": false,
     "input": [
      "import pandas as pd"
     ],
     "language": "python",
     "metadata": {},
     "outputs": []
    },
    {
     "cell_type": "markdown",
     "metadata": {},
     "source": [
      "Import data to pandas dataframe"
     ]
    },
    {
     "cell_type": "code",
     "collapsed": false,
     "input": [
      "data = pd.read_csv('data/titanic-train.csv')"
     ],
     "language": "python",
     "metadata": {},
     "outputs": []
    },
    {
     "cell_type": "markdown",
     "metadata": {},
     "source": [
      "Quick look at the data"
     ]
    },
    {
     "cell_type": "code",
     "collapsed": false,
     "input": [
      "data.head()"
     ],
     "language": "python",
     "metadata": {},
     "outputs": []
    },
    {
     "cell_type": "markdown",
     "metadata": {},
     "source": [
      "General information on the dataset"
     ]
    },
    {
     "cell_type": "code",
     "collapsed": false,
     "input": [
      "data.info()"
     ],
     "language": "python",
     "metadata": {},
     "outputs": []
    },
    {
     "cell_type": "markdown",
     "metadata": {},
     "source": [
      "Select columns"
     ]
    },
    {
     "cell_type": "code",
     "collapsed": false,
     "input": [
      "data['Age']"
     ],
     "language": "python",
     "metadata": {},
     "outputs": []
    },
    {
     "cell_type": "markdown",
     "metadata": {},
     "source": [
      "Numpy-like selection"
     ]
    },
    {
     "cell_type": "code",
     "collapsed": false,
     "input": [
      "data[0:2]"
     ],
     "language": "python",
     "metadata": {},
     "outputs": []
    },
    {
     "cell_type": "code",
     "collapsed": false,
     "input": [
      "data[['PassengerId', 'Survived']][0:3]"
     ],
     "language": "python",
     "metadata": {},
     "outputs": []
    },
    {
     "cell_type": "markdown",
     "metadata": {},
     "source": [
      "Data aggregation"
     ]
    },
    {
     "cell_type": "code",
     "collapsed": false,
     "input": [
      "data.mean()"
     ],
     "language": "python",
     "metadata": {},
     "outputs": []
    },
    {
     "cell_type": "markdown",
     "metadata": {},
     "source": [
      "Find more here: [10 Minutes to Pandas](http://pandas.pydata.org/pandas-docs/stable/10min.html)"
     ]
    },
    {
     "cell_type": "markdown",
     "metadata": {},
     "source": [
      "## Recap\n",
      "\n",
      "- pro tips with Ipyhon (CTRL + m + ...)\n",
      "- numpy wizardry (slicing, dicing, broadcasting)\n",
      "- intro to pandas (load csv, selection, data aggregation)"
     ]
    }
   ],
   "metadata": {}
  }
 ]
}